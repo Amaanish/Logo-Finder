{
  "nbformat": 4,
  "nbformat_minor": 0,
  "metadata": {
    "colab": {
      "provenance": []
    },
    "kernelspec": {
      "name": "python3",
      "display_name": "Python 3"
    },
    "language_info": {
      "name": "python"
    }
  },
  "cells": [
    {
      "cell_type": "code",
      "execution_count": null,
      "metadata": {
        "colab": {
          "base_uri": "https://localhost:8080/"
        },
        "id": "2am1kfwX8Gio",
        "outputId": "38021d38-7e63-40ad-f5ea-647d19e91c14"
      },
      "outputs": [
        {
          "output_type": "stream",
          "name": "stdout",
          "text": [
            "Enter Website URL: https://www.toyota.ae/en/\n",
            "https://dam.alfuttaim.com/wps/wcm/connect/a4d697d5-b0c5-4f79-a410-8266625f6b1f/brand-toyota-toyota-mark-black.svg?MOD=AJPERES&amp;CACHEID=ROOTWORKSPACE-a4d697d5-b0c5-4f79-a410-8266625f6b1f-p5aTs4r&mformat=true\n"
          ]
        }
      ],
      "source": [
        "import requests\n",
        "from bs4 import BeautifulSoup\n",
        "from urllib.parse import urljoin\n",
        "\n",
        "def get_logo_url(website_url):\n",
        "    try:\n",
        "        response = requests.get(website_url, timeout=10)\n",
        "        response.raise_for_status()\n",
        "        soup = BeautifulSoup(response.text, 'html.parser')\n",
        "\n",
        "        for img in soup.find_all('img'):\n",
        "            alt = img.get('alt', '').lower()\n",
        "            class_name = ' '.join(img.get('class', [])).lower()\n",
        "            src = img.get('src')\n",
        "\n",
        "            if src and ('logo' in alt or 'logo' in class_name):\n",
        "                return urljoin(website_url, src)\n",
        "\n",
        "        return \"Logo not found\"\n",
        "\n",
        "    except Exception as e:\n",
        "        return f\"Error: {e}\"\n",
        "\n",
        "def urlin():\n",
        "  z = input(\"Enter Website URL: \")\n",
        "  return z\n",
        "\n",
        "\n",
        "print(get_logo_url(urlin()))\n"
      ]
    }
  ]
}